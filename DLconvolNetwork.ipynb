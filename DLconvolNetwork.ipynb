{
 "cells": [
  {
   "cell_type": "code",
   "execution_count": 1,
   "id": "469f6f7e",
   "metadata": {},
   "outputs": [],
   "source": [
    "import os\n",
    "import pandas as pd\n",
    "import zipfile"
   ]
  },
  {
   "cell_type": "code",
   "execution_count": 2,
   "id": "6160db2f",
   "metadata": {},
   "outputs": [],
   "source": [
    "# folder directory\n",
    "data_dir = r'C:\\Users\\HP\\Documents\\my-data\\dogs-and-cats'"
   ]
  },
  {
   "cell_type": "code",
   "execution_count": 3,
   "id": "9674cf6b",
   "metadata": {},
   "outputs": [],
   "source": [
    "# define the directories\n",
    "train_dir = os.path.join(data_dir, 'train')\n",
    "#validation_dir = os.path.join(data_dir, 'validation'): no validation folder in the dataset\n",
    "test_dir = os.path.join(data_dir, 'test1')"
   ]
  },
  {
   "cell_type": "code",
   "execution_count": 4,
   "id": "ec8fe59d",
   "metadata": {},
   "outputs": [],
   "source": [
    "# import the necessary libraries and tools\n",
    "import numpy as np\n",
    "from keras.preprocessing.image import ImageDataGenerator"
   ]
  },
  {
   "cell_type": "code",
   "execution_count": 8,
   "id": "097e3d9d",
   "metadata": {},
   "outputs": [
    {
     "name": "stdout",
     "output_type": "stream",
     "text": [
      "Found 25000 images belonging to 2 classes.\n",
      "Found 12500 images belonging to 1 classes.\n"
     ]
    }
   ],
   "source": [
    "# Create ImageDataGenerators for training, validation, and test sets\n",
    "train_datagen = ImageDataGenerator(rescale=1./255, rotation_range=40, width_shift_range=0.2, height_shift_range=0.2, shear_range=0.2, zoom_range=0.2, horizontal_flip=True, fill_mode='nearest')\n",
    "#validation_datagen = ImageDataGenerator(rescale=1./255)\n",
    "test_datagen = ImageDataGenerator(rescale=1./255)\n",
    "\n",
    "train_generator = train_datagen.flow_from_directory(train_dir, target_size=(128, 128), batch_size=20, class_mode='binary')\n",
    "#validation_generator = validation_datagen.flow_from_directory(validation_dir, target_size=(128, 128), batch_size=20, class_mode='binary')\n",
    "test_generator = test_datagen.flow_from_directory(data_dir, target_size=(128, 128), batch_size=20, classes=['test1'])"
   ]
  },
  {
   "cell_type": "code",
   "execution_count": null,
   "id": "60fce76d",
   "metadata": {},
   "outputs": [],
   "source": []
  },
  {
   "cell_type": "code",
   "execution_count": 9,
   "id": "f5733fa8",
   "metadata": {},
   "outputs": [],
   "source": [
    "from keras.models import Sequential\n",
    "from keras.layers import Conv2D, MaxPooling2D, Dense, Flatten, Dropout"
   ]
  },
  {
   "cell_type": "code",
   "execution_count": 10,
   "id": "845c3d89",
   "metadata": {},
   "outputs": [],
   "source": [
    "model = Sequential()\n",
    "\n",
    "model.add(Conv2D(32, (3, 3), activation='relu', input_shape=(128, 128, 3)))\n",
    "model.add(MaxPooling2D((2, 2)))\n",
    "\n",
    "model.add(Conv2D(64, (3, 3), activation='relu'))\n",
    "model.add(MaxPooling2D((2, 2)))\n",
    "\n",
    "model.add(Conv2D(128, (3, 3), activation='relu'))\n",
    "model.add(MaxPooling2D((2, 2)))\n",
    "\n",
    "model.add(Conv2D(128, (3, 3), activation='relu'))\n",
    "model.add(MaxPooling2D((2, 2)))\n",
    "\n",
    "model.add(Flatten())\n",
    "model.add(Dropout(0.5))\n",
    "model.add(Dense(512, activation='relu'))\n",
    "model.add(Dense(1, activation='sigmoid'))"
   ]
  },
  {
   "cell_type": "code",
   "execution_count": 11,
   "id": "c717250f",
   "metadata": {},
   "outputs": [],
   "source": [
    "from keras.optimizers import Adam\n",
    "\n",
    "model.compile(optimizer=Adam(learning_rate=0.001), loss='binary_crossentropy', metrics=['accuracy'])"
   ]
  },
  {
   "cell_type": "code",
   "execution_count": 13,
   "id": "26c5a1ad",
   "metadata": {},
   "outputs": [
    {
     "name": "stdout",
     "output_type": "stream",
     "text": [
      "Epoch 1/24\n",
      "100/100 [==============================] - 46s 456ms/step - loss: 0.5890 - accuracy: 0.6900\n",
      "Epoch 2/24\n",
      "100/100 [==============================] - 46s 456ms/step - loss: 0.5840 - accuracy: 0.6940\n",
      "Epoch 3/24\n",
      "100/100 [==============================] - 44s 435ms/step - loss: 0.5633 - accuracy: 0.7085\n",
      "Epoch 4/24\n",
      "100/100 [==============================] - 49s 491ms/step - loss: 0.5772 - accuracy: 0.6920\n",
      "Epoch 5/24\n",
      "100/100 [==============================] - 67s 669ms/step - loss: 0.5684 - accuracy: 0.7020\n",
      "Epoch 6/24\n",
      "100/100 [==============================] - 66s 655ms/step - loss: 0.5851 - accuracy: 0.6930\n",
      "Epoch 7/24\n",
      "100/100 [==============================] - 51s 510ms/step - loss: 0.5727 - accuracy: 0.7060\n",
      "Epoch 8/24\n",
      "100/100 [==============================] - 48s 481ms/step - loss: 0.5826 - accuracy: 0.6940\n",
      "Epoch 9/24\n",
      "100/100 [==============================] - 48s 476ms/step - loss: 0.5723 - accuracy: 0.6995\n",
      "Epoch 10/24\n",
      "100/100 [==============================] - 53s 527ms/step - loss: 0.5655 - accuracy: 0.7085\n",
      "Epoch 11/24\n",
      "100/100 [==============================] - 50s 495ms/step - loss: 0.5430 - accuracy: 0.7270\n",
      "Epoch 12/24\n",
      "100/100 [==============================] - 50s 498ms/step - loss: 0.5413 - accuracy: 0.7300\n",
      "Epoch 13/24\n",
      "100/100 [==============================] - 52s 523ms/step - loss: 0.5353 - accuracy: 0.7345\n",
      "Epoch 14/24\n",
      "100/100 [==============================] - 45s 445ms/step - loss: 0.5325 - accuracy: 0.7270\n",
      "Epoch 15/24\n",
      "100/100 [==============================] - 45s 445ms/step - loss: 0.5538 - accuracy: 0.7200\n",
      "Epoch 16/24\n",
      "100/100 [==============================] - 51s 514ms/step - loss: 0.5354 - accuracy: 0.7345\n",
      "Epoch 17/24\n",
      "100/100 [==============================] - 47s 469ms/step - loss: 0.5516 - accuracy: 0.7165\n",
      "Epoch 18/24\n",
      "100/100 [==============================] - 43s 432ms/step - loss: 0.5222 - accuracy: 0.7475\n",
      "Epoch 19/24\n",
      "100/100 [==============================] - 43s 427ms/step - loss: 0.5375 - accuracy: 0.7250\n",
      "Epoch 20/24\n",
      "100/100 [==============================] - 43s 425ms/step - loss: 0.5080 - accuracy: 0.7480\n",
      "Epoch 21/24\n",
      "100/100 [==============================] - 43s 428ms/step - loss: 0.5235 - accuracy: 0.7440\n",
      "Epoch 22/24\n",
      "100/100 [==============================] - 43s 429ms/step - loss: 0.5355 - accuracy: 0.7200\n",
      "Epoch 23/24\n",
      "100/100 [==============================] - 45s 450ms/step - loss: 0.5113 - accuracy: 0.7455\n",
      "Epoch 24/24\n",
      "100/100 [==============================] - 43s 431ms/step - loss: 0.5302 - accuracy: 0.7340\n"
     ]
    }
   ],
   "source": [
    "history = model.fit(train_generator, steps_per_epoch=100, epochs=24)"
   ]
  },
  {
   "cell_type": "code",
   "execution_count": 14,
   "id": "e49841cc",
   "metadata": {},
   "outputs": [
    {
     "name": "stdout",
     "output_type": "stream",
     "text": [
      "50/50 [==============================] - 14s 286ms/step - loss: 0.6155 - accuracy: 0.6650\n",
      "Test accuracy: 0.6650000214576721\n"
     ]
    }
   ],
   "source": [
    "# evaluate the model\n",
    "test_loss, test_acc = model.evaluate(test_generator, steps=50)\n",
    "print('Test accuracy:', test_acc)"
   ]
  },
  {
   "cell_type": "code",
   "execution_count": null,
   "id": "644319a1",
   "metadata": {},
   "outputs": [],
   "source": []
  }
 ],
 "metadata": {
  "kernelspec": {
   "display_name": "Python 3 (ipykernel)",
   "language": "python",
   "name": "python3"
  },
  "language_info": {
   "codemirror_mode": {
    "name": "ipython",
    "version": 3
   },
   "file_extension": ".py",
   "mimetype": "text/x-python",
   "name": "python",
   "nbconvert_exporter": "python",
   "pygments_lexer": "ipython3",
   "version": "3.10.9"
  }
 },
 "nbformat": 4,
 "nbformat_minor": 5
}
